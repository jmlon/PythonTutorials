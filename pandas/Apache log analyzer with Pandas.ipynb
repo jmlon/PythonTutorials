{
 "cells": [
  {
   "cell_type": "markdown",
   "metadata": {},
   "source": [
    "# Building an Apache log analyzer with Pandas"
   ]
  },
  {
   "cell_type": "markdown",
   "metadata": {},
   "source": [
    "Apache access logs are text files that record the activity of a web site. The analysis of log files provides useful insights for web masters and site owners. This example illustrates how to use the data analysis functions of Pandas to analize log files."
   ]
  },
  {
   "cell_type": "markdown",
   "metadata": {},
   "source": [
    "For this exercise we will need to import the following libraries:"
   ]
  },
  {
   "cell_type": "code",
   "execution_count": 1,
   "metadata": {},
   "outputs": [],
   "source": [
    "import pandas as pd\n",
    "import numpy as np\n",
    "import matplotlib.pyplot as plt\n",
    "from dateutil.parser import *"
   ]
  },
  {
   "cell_type": "markdown",
   "metadata": {},
   "source": [
    "## Apache log files"
   ]
  },
  {
   "cell_type": "markdown",
   "metadata": {},
   "source": [
    "Log files come in various formats which differ in the amount mof information registered in the log. The two most common formats are the 'common' and the 'combined'. For more details about apache log formats see <a href=\"https://httpd.apache.org/docs/2.2/en/logs.html\">Apache's Log Files</a>. Here are a couple of examples:"
   ]
  },
  {
   "cell_type": "markdown",
   "metadata": {},
   "source": [
    "Common format:<BR>\n",
    "    <PRE>local - - [30/Mar/1995:20:28:05 -0700] \"GET 6224.html HTTP/1.0\" 200 2644</PRE>"
   ]
  },
  {
   "cell_type": "markdown",
   "metadata": {},
   "source": [
    "Combined format:<BR>\n",
    "    <PRE>192.168.0.1 - - [02/Jan/2018:07:20:02 -0500] \"GET /index.html HTTP/1.1\" 200 8813 \"-\" \"Mozilla/5.0 (Linux; Android 7.0; PRA-LX3 Build/HUAWEIPRA-LX3) AppleWebKit/537.36 (KHTML, like Gecko) Chrome/55.0.2883.91 Mobile Safari/537.36\"</PRE>"
   ]
  },
  {
   "cell_type": "markdown",
   "metadata": {},
   "source": [
    "The first element of a log line is the address or hostname of the client.<BR>\n",
    "Next come the id and the user, usually not used and register as a '-'.<BR>\n",
    "Then, we have the date and time enclosed between '[' and ']'.<BR>\n",
    "The next element is the request, which comes enclosed in quotes.<BR>\n",
    "Then we have a couple numbers, the http status code and the response size. In some cases, they may be registered as '-'.<BR>\n",
    "In the combined format we have two additional elements, the referer and the user agent, both enclosed in quotes."
   ]
  },
  {
   "cell_type": "markdown",
   "metadata": {},
   "source": [
    "## Reading the log file"
   ]
  },
  {
   "cell_type": "markdown",
   "metadata": {},
   "source": [
    "At first, the log lines may seem difficult to parse. Pandas simplifies thet task with the <a href=\"https://pandas.pydata.org/pandas-docs/stable/io.html#io-read-csv-table\">read_csv function</a>, which supports many customization options. We are going to need the following:\n",
    "<UL>\n",
    "    <li><em>delim_whitespace=True</em>. Use whitespaces instead of commas as field separators.</li>\n",
    "    <li><em>header=None</em>. Log files do no include a headers line.</li>\n",
    "    <li><em>parse_dates={ 'dt': [3,4] }</em>. We are going to use columns 3 and 4 to parse the date.</li>\n",
    "    <li><em>date_parser=apacheDateParser</em>. Our custom function to parse dates in the log's format.</li>\n",
    "    <li><em>index_col=0</em>. Use the date-time field as the dataframe index</li>\n",
    "    <li><em>names=['client','id','user','datetime','tz','request','status','size','referer','agent']</em>. Name the columns to make it easier to access and remember their meaning.</li>\n",
    "    <li><em>converters={ 'status':myIntParser, 'size': myIntParser }</em>. We want to handle the status code and the document size as integers, but we need a custon function to handle the cases where the field is '-'.</li>\n",
    "    <li><em>encoding='iso-8859-1'</em>. What encoding uses the log file. Most cases are either 'iso-8859-1' or 'utf-8'.</li>\n",
    "    <li><em>dtype={ 'referer': object, 'agent': object }.</em>Specify the data type of the last columns. Important in the case of the common format, which does not contain this information.</li>\n",
    "</UL>"
   ]
  },
  {
   "cell_type": "markdown",
   "metadata": {},
   "source": [
    "So, lets define our custom functions for parsing integers and dates:"
   ]
  },
  {
   "cell_type": "code",
   "execution_count": 2,
   "metadata": {},
   "outputs": [],
   "source": [
    "def apacheDateParser(x,y):\n",
    "    return parse(x+' '+y, fuzzy=True)    \n",
    "\n",
    "\n",
    "def myIntParser(x):\n",
    "    try:\n",
    "        # Throws a ValueError exception if is not a valid integer\n",
    "        return int(x)\n",
    "    except ValueError:\n",
    "        return np.nan"
   ]
  },
  {
   "cell_type": "markdown",
   "metadata": {},
   "source": [
    "And now we can read the log file into a Pandas <a href=\"https://pandas.pydata.org/pandas-docs/stable/generated/pandas.DataFrame.html\">Dataframe</a>."
   ]
  },
  {
   "cell_type": "code",
   "execution_count": 3,
   "metadata": {},
   "outputs": [],
   "source": [
    "data = pd.read_csv('<Path to your access_log file>', encoding='iso-8859-1',\n",
    "    delim_whitespace=True, \n",
    "    header=None, \n",
    "    parse_dates={ 'dt': [3,4] },\n",
    "    date_parser=apacheDateParser,\n",
    "    index_col=0, \n",
    "    names=['client','id','user','datetime','tz','request','status','size','referer','agent'],\n",
    "    converters={ 'status':myIntParser, 'size': myIntParser },\n",
    "    dtype={ 'referer': object, 'agent': object } )"
   ]
  },
  {
   "cell_type": "markdown",
   "metadata": {},
   "source": [
    "We can check how many rows and columns in the data with"
   ]
  },
  {
   "cell_type": "code",
   "execution_count": 4,
   "metadata": {},
   "outputs": [
    {
     "name": "stdout",
     "output_type": "stream",
     "text": [
      "(154754, 8)\n"
     ]
    }
   ],
   "source": [
    "print(data.shape)"
   ]
  },
  {
   "cell_type": "markdown",
   "metadata": {},
   "source": [
    "And take a look at the data with"
   ]
  },
  {
   "cell_type": "code",
   "execution_count": 5,
   "metadata": {},
   "outputs": [
    {
     "data": {
      "text/html": [
       "<div>\n",
       "<table border=\"1\" class=\"dataframe\">\n",
       "  <thead>\n",
       "    <tr style=\"text-align: right;\">\n",
       "      <th></th>\n",
       "      <th>client</th>\n",
       "      <th>id</th>\n",
       "      <th>user</th>\n",
       "      <th>request</th>\n",
       "      <th>status</th>\n",
       "      <th>size</th>\n",
       "      <th>referer</th>\n",
       "      <th>agent</th>\n",
       "    </tr>\n",
       "    <tr>\n",
       "      <th>dt</th>\n",
       "      <th></th>\n",
       "      <th></th>\n",
       "      <th></th>\n",
       "      <th></th>\n",
       "      <th></th>\n",
       "      <th></th>\n",
       "      <th></th>\n",
       "      <th></th>\n",
       "    </tr>\n",
       "  </thead>\n",
       "  <tbody>\n",
       "    <tr>\n",
       "      <th>1994-10-24 19:41:41</th>\n",
       "      <td>local</td>\n",
       "      <td>-</td>\n",
       "      <td>-</td>\n",
       "      <td>GET index.html HTTP/1.0</td>\n",
       "      <td>200</td>\n",
       "      <td>150</td>\n",
       "      <td>NaN</td>\n",
       "      <td>NaN</td>\n",
       "    </tr>\n",
       "    <tr>\n",
       "      <th>1994-10-24 19:41:41</th>\n",
       "      <td>local</td>\n",
       "      <td>-</td>\n",
       "      <td>-</td>\n",
       "      <td>GET 1.gif HTTP/1.0</td>\n",
       "      <td>200</td>\n",
       "      <td>1210</td>\n",
       "      <td>NaN</td>\n",
       "      <td>NaN</td>\n",
       "    </tr>\n",
       "    <tr>\n",
       "      <th>1994-10-24 19:43:13</th>\n",
       "      <td>local</td>\n",
       "      <td>-</td>\n",
       "      <td>-</td>\n",
       "      <td>GET index.html HTTP/1.0</td>\n",
       "      <td>200</td>\n",
       "      <td>3185</td>\n",
       "      <td>NaN</td>\n",
       "      <td>NaN</td>\n",
       "    </tr>\n",
       "    <tr>\n",
       "      <th>1994-10-24 19:43:14</th>\n",
       "      <td>local</td>\n",
       "      <td>-</td>\n",
       "      <td>-</td>\n",
       "      <td>GET 2.gif HTTP/1.0</td>\n",
       "      <td>200</td>\n",
       "      <td>2555</td>\n",
       "      <td>NaN</td>\n",
       "      <td>NaN</td>\n",
       "    </tr>\n",
       "    <tr>\n",
       "      <th>1994-10-24 19:43:15</th>\n",
       "      <td>local</td>\n",
       "      <td>-</td>\n",
       "      <td>-</td>\n",
       "      <td>GET 3.gif HTTP/1.0</td>\n",
       "      <td>200</td>\n",
       "      <td>36403</td>\n",
       "      <td>NaN</td>\n",
       "      <td>NaN</td>\n",
       "    </tr>\n",
       "  </tbody>\n",
       "</table>\n",
       "</div>"
      ],
      "text/plain": [
       "                    client id user                  request  status   size  \\\n",
       "dt                                                                           \n",
       "1994-10-24 19:41:41  local  -    -  GET index.html HTTP/1.0     200    150   \n",
       "1994-10-24 19:41:41  local  -    -       GET 1.gif HTTP/1.0     200   1210   \n",
       "1994-10-24 19:43:13  local  -    -  GET index.html HTTP/1.0     200   3185   \n",
       "1994-10-24 19:43:14  local  -    -       GET 2.gif HTTP/1.0     200   2555   \n",
       "1994-10-24 19:43:15  local  -    -       GET 3.gif HTTP/1.0     200  36403   \n",
       "\n",
       "                    referer agent  \n",
       "dt                                 \n",
       "1994-10-24 19:41:41     NaN   NaN  \n",
       "1994-10-24 19:41:41     NaN   NaN  \n",
       "1994-10-24 19:43:13     NaN   NaN  \n",
       "1994-10-24 19:43:14     NaN   NaN  \n",
       "1994-10-24 19:43:15     NaN   NaN  "
      ]
     },
     "execution_count": 5,
     "metadata": {},
     "output_type": "execute_result"
    }
   ],
   "source": [
    "data.head()"
   ]
  },
  {
   "cell_type": "markdown",
   "metadata": {},
   "source": [
    "In this case the log file is in the common format and for this reason the referer and agent columns are empty."
   ]
  },
  {
   "cell_type": "markdown",
   "metadata": {},
   "source": [
    "We may also want to check that the type conversions work as expected"
   ]
  },
  {
   "cell_type": "code",
   "execution_count": 6,
   "metadata": {},
   "outputs": [
    {
     "data": {
      "text/plain": [
       "client      object\n",
       "id          object\n",
       "user        object\n",
       "request     object\n",
       "status     float64\n",
       "size       float64\n",
       "referer     object\n",
       "agent       object\n",
       "dtype: object"
      ]
     },
     "execution_count": 6,
     "metadata": {},
     "output_type": "execute_result"
    }
   ],
   "source": [
    "data.dtypes"
   ]
  },
  {
   "cell_type": "markdown",
   "metadata": {},
   "source": [
    "We can check some basic statistics of the data, for example"
   ]
  },
  {
   "cell_type": "markdown",
   "metadata": {},
   "source": [
    "The mean transfer size is"
   ]
  },
  {
   "cell_type": "code",
   "execution_count": 7,
   "metadata": {},
   "outputs": [
    {
     "data": {
      "text/plain": [
       "14133.754770083728"
      ]
     },
     "execution_count": 7,
     "metadata": {},
     "output_type": "execute_result"
    }
   ],
   "source": [
    "data['size'].mean()"
   ]
  },
  {
   "cell_type": "markdown",
   "metadata": {},
   "source": [
    "and its standard deviation is"
   ]
  },
  {
   "cell_type": "code",
   "execution_count": 8,
   "metadata": {},
   "outputs": [
    {
     "data": {
      "text/plain": [
       "147597.44034731924"
      ]
     },
     "execution_count": 8,
     "metadata": {},
     "output_type": "execute_result"
    }
   ],
   "source": [
    "data['size'].std()"
   ]
  },
  {
   "cell_type": "markdown",
   "metadata": {},
   "source": [
    "We can see that in some cases the size was not a valid value"
   ]
  },
  {
   "cell_type": "code",
   "execution_count": 9,
   "metadata": {},
   "outputs": [
    {
     "data": {
      "text/plain": [
       "dt\n",
       "1994-10-24 19:49:01   NaN\n",
       "1994-10-24 20:00:20   NaN\n",
       "1994-10-24 20:16:26   NaN\n",
       "1994-10-24 20:19:52   NaN\n",
       "1994-10-24 20:21:21   NaN\n",
       "Name: size, dtype: float64"
      ]
     },
     "execution_count": 9,
     "metadata": {},
     "output_type": "execute_result"
    }
   ],
   "source": [
    "data['size'][data['size'].isnull()].head()"
   ]
  },
  {
   "cell_type": "markdown",
   "metadata": {},
   "source": [
    "When doing analysis on files with this kind of problems, be aware that there may be cases like this that introduce error in the results. For example if we count the number of size records we obtain"
   ]
  },
  {
   "cell_type": "code",
   "execution_count": 10,
   "metadata": {},
   "outputs": [
    {
     "data": {
      "text/plain": [
       "141769"
      ]
     },
     "execution_count": 10,
     "metadata": {},
     "output_type": "execute_result"
    }
   ],
   "source": [
    "data['size'].count()"
   ]
  },
  {
   "cell_type": "markdown",
   "metadata": {},
   "source": [
    "Much lower than the number of rows in the table."
   ]
  },
  {
   "cell_type": "markdown",
   "metadata": {},
   "source": [
    "## Data analysis"
   ]
  },
  {
   "cell_type": "markdown",
   "metadata": {},
   "source": [
    "### Grouping"
   ]
  },
  {
   "cell_type": "markdown",
   "metadata": {},
   "source": [
    "Using a grouping criteria we can obtain statistics about groups of records that share certain characteristic. In this example, we are going to characterize the visits to the website by day of the week. So, we start by grouping the dataframe by weekday for counting the number is hits. In this case, any column will do for the counting."
   ]
  },
  {
   "cell_type": "code",
   "execution_count": 11,
   "metadata": {},
   "outputs": [],
   "source": [
    "grpHitsWDay = data[['id']].groupby(data.index.weekday, sort=False)"
   ]
  },
  {
   "cell_type": "markdown",
   "metadata": {},
   "source": [
    "Observe that the groupby operation returns a DataFrameGroupBy object"
   ]
  },
  {
   "cell_type": "code",
   "execution_count": 12,
   "metadata": {},
   "outputs": [
    {
     "data": {
      "text/plain": [
       "<pandas.core.groupby.DataFrameGroupBy object at 0x7fdf6d40bb00>"
      ]
     },
     "execution_count": 12,
     "metadata": {},
     "output_type": "execute_result"
    }
   ],
   "source": [
    "grpHitsWDay"
   ]
  },
  {
   "cell_type": "markdown",
   "metadata": {},
   "source": [
    "The indices attribute give us a good intuition of how groups are represented"
   ]
  },
  {
   "cell_type": "code",
   "execution_count": 13,
   "metadata": {},
   "outputs": [
    {
     "data": {
      "text/plain": [
       "{0: array([     0,      1,      2, ..., 140779, 140780, 140781]),\n",
       " 1: array([   491,    492,    493, ..., 145383, 145384, 145385]),\n",
       " 2: array([  1605,   1606,   1607, ..., 150382, 150383, 150384]),\n",
       " 3: array([  3040,   3041,   3042, ..., 154751, 154752, 154753]),\n",
       " 4: array([  5149,   5150,   5151, ..., 133443, 133444, 133445]),\n",
       " 5: array([  7050,   7051,   7052, ..., 135442, 135443, 135444]),\n",
       " 6: array([  7957,   7958,   7959, ..., 137781, 137782, 137783])}"
      ]
     },
     "execution_count": 13,
     "metadata": {},
     "output_type": "execute_result"
    }
   ],
   "source": [
    "grpHitsWDay.indices"
   ]
  },
  {
   "cell_type": "markdown",
   "metadata": {},
   "source": [
    "each weekday (0,..,6) is an array that containts the rows of the dataframe that belong to the group. This is quite important because when computing any metric, we have to use functions that operate over the arrays of the corresponding rows."
   ]
  },
  {
   "cell_type": "markdown",
   "metadata": {},
   "source": [
    "For example, counting the number of elements in the array gives us the total hits of the respective day"
   ]
  },
  {
   "cell_type": "code",
   "execution_count": 14,
   "metadata": {},
   "outputs": [
    {
     "data": {
      "text/html": [
       "<div>\n",
       "<table border=\"1\" class=\"dataframe\">\n",
       "  <thead>\n",
       "    <tr style=\"text-align: right;\">\n",
       "      <th></th>\n",
       "      <th>id</th>\n",
       "    </tr>\n",
       "  </thead>\n",
       "  <tbody>\n",
       "    <tr>\n",
       "      <th>0</th>\n",
       "      <td>23079</td>\n",
       "    </tr>\n",
       "    <tr>\n",
       "      <th>1</th>\n",
       "      <td>27278</td>\n",
       "    </tr>\n",
       "    <tr>\n",
       "      <th>2</th>\n",
       "      <td>30223</td>\n",
       "    </tr>\n",
       "    <tr>\n",
       "      <th>3</th>\n",
       "      <td>28370</td>\n",
       "    </tr>\n",
       "    <tr>\n",
       "      <th>4</th>\n",
       "      <td>22746</td>\n",
       "    </tr>\n",
       "    <tr>\n",
       "      <th>5</th>\n",
       "      <td>11750</td>\n",
       "    </tr>\n",
       "    <tr>\n",
       "      <th>6</th>\n",
       "      <td>11308</td>\n",
       "    </tr>\n",
       "  </tbody>\n",
       "</table>\n",
       "</div>"
      ],
      "text/plain": [
       "      id\n",
       "0  23079\n",
       "1  27278\n",
       "2  30223\n",
       "3  28370\n",
       "4  22746\n",
       "5  11750\n",
       "6  11308"
      ]
     },
     "execution_count": 14,
     "metadata": {},
     "output_type": "execute_result"
    }
   ],
   "source": [
    "grpHitsWDay.count()"
   ]
  },
  {
   "cell_type": "markdown",
   "metadata": {},
   "source": [
    "Of course, it would be nicer if we give the days of the week the corresponding names and the column the name 'Hits'"
   ]
  },
  {
   "cell_type": "code",
   "execution_count": 15,
   "metadata": {},
   "outputs": [
    {
     "data": {
      "text/html": [
       "<div>\n",
       "<table border=\"1\" class=\"dataframe\">\n",
       "  <thead>\n",
       "    <tr style=\"text-align: right;\">\n",
       "      <th></th>\n",
       "      <th>Hits</th>\n",
       "    </tr>\n",
       "  </thead>\n",
       "  <tbody>\n",
       "    <tr>\n",
       "      <th>Mon</th>\n",
       "      <td>23079</td>\n",
       "    </tr>\n",
       "    <tr>\n",
       "      <th>Tue</th>\n",
       "      <td>27278</td>\n",
       "    </tr>\n",
       "    <tr>\n",
       "      <th>Wed</th>\n",
       "      <td>30223</td>\n",
       "    </tr>\n",
       "    <tr>\n",
       "      <th>Thu</th>\n",
       "      <td>28370</td>\n",
       "    </tr>\n",
       "    <tr>\n",
       "      <th>Fri</th>\n",
       "      <td>22746</td>\n",
       "    </tr>\n",
       "    <tr>\n",
       "      <th>Sat</th>\n",
       "      <td>11750</td>\n",
       "    </tr>\n",
       "    <tr>\n",
       "      <th>Sun</th>\n",
       "      <td>11308</td>\n",
       "    </tr>\n",
       "  </tbody>\n",
       "</table>\n",
       "</div>"
      ],
      "text/plain": [
       "      Hits\n",
       "Mon  23079\n",
       "Tue  27278\n",
       "Wed  30223\n",
       "Thu  28370\n",
       "Fri  22746\n",
       "Sat  11750\n",
       "Sun  11308"
      ]
     },
     "execution_count": 15,
     "metadata": {},
     "output_type": "execute_result"
    }
   ],
   "source": [
    "hits = grpHitsWDay.count()\n",
    "hits.index = [ 'Mon','Tue','Wed','Thu','Fri','Sat','Sun' ]\n",
    "hits.columns = [ 'Hits' ]\n",
    "hits"
   ]
  },
  {
   "cell_type": "markdown",
   "metadata": {},
   "source": [
    "The method describe gives a basic statistical description of the 'Hits' metric"
   ]
  },
  {
   "cell_type": "code",
   "execution_count": 16,
   "metadata": {},
   "outputs": [
    {
     "data": {
      "text/html": [
       "<div>\n",
       "<table border=\"1\" class=\"dataframe\">\n",
       "  <thead>\n",
       "    <tr style=\"text-align: right;\">\n",
       "      <th></th>\n",
       "      <th>Hits</th>\n",
       "    </tr>\n",
       "  </thead>\n",
       "  <tbody>\n",
       "    <tr>\n",
       "      <th>count</th>\n",
       "      <td>7.000000</td>\n",
       "    </tr>\n",
       "    <tr>\n",
       "      <th>mean</th>\n",
       "      <td>22107.714286</td>\n",
       "    </tr>\n",
       "    <tr>\n",
       "      <th>std</th>\n",
       "      <td>7714.410946</td>\n",
       "    </tr>\n",
       "    <tr>\n",
       "      <th>min</th>\n",
       "      <td>11308.000000</td>\n",
       "    </tr>\n",
       "    <tr>\n",
       "      <th>25%</th>\n",
       "      <td>17248.000000</td>\n",
       "    </tr>\n",
       "    <tr>\n",
       "      <th>50%</th>\n",
       "      <td>23079.000000</td>\n",
       "    </tr>\n",
       "    <tr>\n",
       "      <th>75%</th>\n",
       "      <td>27824.000000</td>\n",
       "    </tr>\n",
       "    <tr>\n",
       "      <th>max</th>\n",
       "      <td>30223.000000</td>\n",
       "    </tr>\n",
       "  </tbody>\n",
       "</table>\n",
       "</div>"
      ],
      "text/plain": [
       "               Hits\n",
       "count      7.000000\n",
       "mean   22107.714286\n",
       "std     7714.410946\n",
       "min    11308.000000\n",
       "25%    17248.000000\n",
       "50%    23079.000000\n",
       "75%    27824.000000\n",
       "max    30223.000000"
      ]
     },
     "execution_count": 16,
     "metadata": {},
     "output_type": "execute_result"
    }
   ],
   "source": [
    "hits.describe()"
   ]
  },
  {
   "cell_type": "markdown",
   "metadata": {},
   "source": [
    "Sometimes a picture is work a thousand words"
   ]
  },
  {
   "cell_type": "code",
   "execution_count": 17,
   "metadata": {},
   "outputs": [
    {
     "data": {
      "image/png": "[encoded data removed]",
      "text/plain": [
       "<matplotlib.figure.Figure at 0x7fdf360653c8>"
      ]
     },
     "metadata": {},
     "output_type": "display_data"
    }
   ],
   "source": [
    "hits.plot(kind='bar', figsize=(8,6), colormap='summer', title='Hits per weekday', legend=False)\n",
    "plt.show()"
   ]
  },
  {
   "cell_type": "markdown",
   "metadata": {},
   "source": [
    "One may want a characterize several of the metrics at the same time. Let us characterize the behavior of hits and transferred bytes per weekday"
   ]
  },
  {
   "cell_type": "code",
   "execution_count": 18,
   "metadata": {},
   "outputs": [],
   "source": [
    "grpWDay = data[ ['id','size'] ].groupby(data.index.weekday)"
   ]
  },
  {
   "cell_type": "markdown",
   "metadata": {},
   "source": [
    "In this case, we want to count the number of hits and sum the number of bytes. The aggregate method allows passing the fuctions to apply to each column"
   ]
  },
  {
   "cell_type": "code",
   "execution_count": 19,
   "metadata": {},
   "outputs": [
    {
     "data": {
      "text/html": [
       "<div>\n",
       "<table border=\"1\" class=\"dataframe\">\n",
       "  <thead>\n",
       "    <tr style=\"text-align: right;\">\n",
       "      <th></th>\n",
       "      <th>id</th>\n",
       "      <th>size</th>\n",
       "    </tr>\n",
       "  </thead>\n",
       "  <tbody>\n",
       "    <tr>\n",
       "      <th>0</th>\n",
       "      <td>23079</td>\n",
       "      <td>357550472</td>\n",
       "    </tr>\n",
       "    <tr>\n",
       "      <th>1</th>\n",
       "      <td>27278</td>\n",
       "      <td>363178475</td>\n",
       "    </tr>\n",
       "    <tr>\n",
       "      <th>2</th>\n",
       "      <td>30223</td>\n",
       "      <td>335276077</td>\n",
       "    </tr>\n",
       "    <tr>\n",
       "      <th>3</th>\n",
       "      <td>28370</td>\n",
       "      <td>382002044</td>\n",
       "    </tr>\n",
       "    <tr>\n",
       "      <th>4</th>\n",
       "      <td>22746</td>\n",
       "      <td>288358842</td>\n",
       "    </tr>\n",
       "    <tr>\n",
       "      <th>5</th>\n",
       "      <td>11750</td>\n",
       "      <td>141023753</td>\n",
       "    </tr>\n",
       "    <tr>\n",
       "      <th>6</th>\n",
       "      <td>11308</td>\n",
       "      <td>136338617</td>\n",
       "    </tr>\n",
       "  </tbody>\n",
       "</table>\n",
       "</div>"
      ],
      "text/plain": [
       "      id       size\n",
       "0  23079  357550472\n",
       "1  27278  363178475\n",
       "2  30223  335276077\n",
       "3  28370  382002044\n",
       "4  22746  288358842\n",
       "5  11750  141023753\n",
       "6  11308  136338617"
      ]
     },
     "execution_count": 19,
     "metadata": {},
     "output_type": "execute_result"
    }
   ],
   "source": [
    "stats = grpWDay.aggregate({ 'id':lambda x: x.count(), 'size':np.sum })\n",
    "stats"
   ]
  },
  {
   "cell_type": "markdown",
   "metadata": {},
   "source": [
    "A couple of notes:\n",
    "<ul>\n",
    "<li>The columns of a dataframe are NumPy arrays, therefore standard NumPy functions (such as np.sum) can be used.</li>\n",
    "<li>A did not find a function that takes an array as argument and count the number of elements, but no problem, I created a lambda expression that takes the array as input and returns the result of invoking its count() method.</li>\n",
    "</ul>"
   ]
  },
  {
   "cell_type": "markdown",
   "metadata": {},
   "source": [
    "Of course, everything looks better with nicer names, so let us rename the columns and the indices"
   ]
  },
  {
   "cell_type": "code",
   "execution_count": 20,
   "metadata": {},
   "outputs": [
    {
     "data": {
      "text/html": [
       "<div>\n",
       "<table border=\"1\" class=\"dataframe\">\n",
       "  <thead>\n",
       "    <tr style=\"text-align: right;\">\n",
       "      <th></th>\n",
       "      <th>Hits</th>\n",
       "      <th>Bytes</th>\n",
       "    </tr>\n",
       "  </thead>\n",
       "  <tbody>\n",
       "    <tr>\n",
       "      <th>Mon</th>\n",
       "      <td>23079</td>\n",
       "      <td>357550472</td>\n",
       "    </tr>\n",
       "    <tr>\n",
       "      <th>Tue</th>\n",
       "      <td>27278</td>\n",
       "      <td>363178475</td>\n",
       "    </tr>\n",
       "    <tr>\n",
       "      <th>Wed</th>\n",
       "      <td>30223</td>\n",
       "      <td>335276077</td>\n",
       "    </tr>\n",
       "    <tr>\n",
       "      <th>Thu</th>\n",
       "      <td>28370</td>\n",
       "      <td>382002044</td>\n",
       "    </tr>\n",
       "    <tr>\n",
       "      <th>Fri</th>\n",
       "      <td>22746</td>\n",
       "      <td>288358842</td>\n",
       "    </tr>\n",
       "    <tr>\n",
       "      <th>Sat</th>\n",
       "      <td>11750</td>\n",
       "      <td>141023753</td>\n",
       "    </tr>\n",
       "    <tr>\n",
       "      <th>Sun</th>\n",
       "      <td>11308</td>\n",
       "      <td>136338617</td>\n",
       "    </tr>\n",
       "  </tbody>\n",
       "</table>\n",
       "</div>"
      ],
      "text/plain": [
       "      Hits      Bytes\n",
       "Mon  23079  357550472\n",
       "Tue  27278  363178475\n",
       "Wed  30223  335276077\n",
       "Thu  28370  382002044\n",
       "Fri  22746  288358842\n",
       "Sat  11750  141023753\n",
       "Sun  11308  136338617"
      ]
     },
     "execution_count": 20,
     "metadata": {},
     "output_type": "execute_result"
    }
   ],
   "source": [
    "stats = grpWDay.aggregate({ 'id':lambda x: x.count(), 'size':np.sum }).rename(columns={'size':'Bytes', 'id':'Hits'})\n",
    "stats.index=[ 'Mon','Tue','Wed','Thu','Fri','Sat','Sun' ]\n",
    "stats"
   ]
  },
  {
   "cell_type": "markdown",
   "metadata": {},
   "source": [
    "Now let us plot both metrics"
   ]
  },
  {
   "cell_type": "code",
   "execution_count": 21,
   "metadata": {},
   "outputs": [
    {
     "data": {
      "image/png": "[encoded data removed]",
      "text/plain": [
       "<matplotlib.figure.Figure at 0x7fdf397d6cc0>"
      ]
     },
     "metadata": {},
     "output_type": "display_data"
    }
   ],
   "source": [
    "stats.plot(kind='bar', figsize=(8,6), colormap='summer', title='Hits & bytes per weekday', subplots=True)\n",
    "plt.show()    "
   ]
  },
  {
   "cell_type": "markdown",
   "metadata": {},
   "source": [
    "### Post-processing of the dataset"
   ]
  },
  {
   "cell_type": "markdown",
   "metadata": {},
   "source": [
    "Sometimes, we can obtain additional information by doing some operations over the data. One good example is identifying the resources of the web site. Currently, the dataset containts a request column that gives the method, the resource and the protocol version"
   ]
  },
  {
   "cell_type": "code",
   "execution_count": 22,
   "metadata": {},
   "outputs": [
    {
     "data": {
      "text/plain": [
       "dt\n",
       "1994-10-24 19:41:41    GET index.html HTTP/1.0\n",
       "1994-10-24 19:41:41         GET 1.gif HTTP/1.0\n",
       "1994-10-24 19:43:13    GET index.html HTTP/1.0\n",
       "1994-10-24 19:43:14         GET 2.gif HTTP/1.0\n",
       "1994-10-24 19:43:15         GET 3.gif HTTP/1.0\n",
       "1994-10-24 19:43:17         GET 4.gif HTTP/1.0\n",
       "1994-10-24 19:46:45    GET index.html HTTP/1.0\n",
       "1994-10-24 19:46:45         GET 2.gif HTTP/1.0\n",
       "1994-10-24 19:46:47         GET 3.gif HTTP/1.0\n",
       "1994-10-24 19:46:50         GET 4.gif HTTP/1.0\n",
       "Name: request, dtype: object"
      ]
     },
     "execution_count": 22,
     "metadata": {},
     "output_type": "execute_result"
    }
   ],
   "source": [
    "data['request'].head(10)"
   ]
  },
  {
   "cell_type": "markdown",
   "metadata": {},
   "source": [
    "The HTTP protocol dictates that the three fields are separated by spaces and the request cannot contain any additional spaces. Thus a simple split would give us the three fields. Lets grab the resource and add an extra column to the dataframe"
   ]
  },
  {
   "cell_type": "code",
   "execution_count": 23,
   "metadata": {},
   "outputs": [
    {
     "data": {
      "text/plain": [
       "dt\n",
       "1994-10-24 19:41:41    index.html\n",
       "1994-10-24 19:41:41         1.gif\n",
       "1994-10-24 19:43:13    index.html\n",
       "1994-10-24 19:43:14         2.gif\n",
       "1994-10-24 19:43:15         3.gif\n",
       "1994-10-24 19:43:17         4.gif\n",
       "1994-10-24 19:46:45    index.html\n",
       "1994-10-24 19:46:45         2.gif\n",
       "1994-10-24 19:46:47         3.gif\n",
       "1994-10-24 19:46:50         4.gif\n",
       "Name: resource, dtype: object"
      ]
     },
     "execution_count": 23,
     "metadata": {},
     "output_type": "execute_result"
    }
   ],
   "source": [
    "data['resource'] = data['request'].apply(lambda x: x.split()[1])\n",
    "data['resource'].head(10)"
   ]
  },
  {
   "cell_type": "markdown",
   "metadata": {},
   "source": [
    "Here we use the apply method, which invokes a function to each element of the array. We define a lambda function that takes the request string, makes a split and returns the element at position 1."
   ]
  },
  {
   "cell_type": "markdown",
   "metadata": {},
   "source": [
    "Well then, let us find the number of hits and bytes for each resource"
   ]
  },
  {
   "cell_type": "code",
   "execution_count": 24,
   "metadata": {},
   "outputs": [
    {
     "data": {
      "text/html": [
       "<div>\n",
       "<table border=\"1\" class=\"dataframe\">\n",
       "  <thead>\n",
       "    <tr style=\"text-align: right;\">\n",
       "      <th></th>\n",
       "      <th>Hits</th>\n",
       "      <th>XferBytes</th>\n",
       "    </tr>\n",
       "    <tr>\n",
       "      <th>resource</th>\n",
       "      <th></th>\n",
       "      <th></th>\n",
       "    </tr>\n",
       "  </thead>\n",
       "  <tbody>\n",
       "    <tr>\n",
       "      <th>1.gif</th>\n",
       "      <td>135</td>\n",
       "      <td>215140</td>\n",
       "    </tr>\n",
       "    <tr>\n",
       "      <th>10.html</th>\n",
       "      <td>146</td>\n",
       "      <td>309145</td>\n",
       "    </tr>\n",
       "    <tr>\n",
       "      <th>100.xbm</th>\n",
       "      <td>431</td>\n",
       "      <td>208472</td>\n",
       "    </tr>\n",
       "    <tr>\n",
       "      <th>1000.jpg</th>\n",
       "      <td>4</td>\n",
       "      <td>85464</td>\n",
       "    </tr>\n",
       "    <tr>\n",
       "      <th>1001.jpg</th>\n",
       "      <td>6</td>\n",
       "      <td>348228</td>\n",
       "    </tr>\n",
       "    <tr>\n",
       "      <th>1002.jpg</th>\n",
       "      <td>7</td>\n",
       "      <td>442470</td>\n",
       "    </tr>\n",
       "    <tr>\n",
       "      <th>1003.html</th>\n",
       "      <td>193</td>\n",
       "      <td>440049</td>\n",
       "    </tr>\n",
       "    <tr>\n",
       "      <th>1004.gif</th>\n",
       "      <td>135</td>\n",
       "      <td>60833</td>\n",
       "    </tr>\n",
       "    <tr>\n",
       "      <th>1005.gif</th>\n",
       "      <td>139</td>\n",
       "      <td>25021</td>\n",
       "    </tr>\n",
       "    <tr>\n",
       "      <th>1006.gif</th>\n",
       "      <td>8</td>\n",
       "      <td>NaN</td>\n",
       "    </tr>\n",
       "    <tr>\n",
       "      <th>1007.gif</th>\n",
       "      <td>58</td>\n",
       "      <td>NaN</td>\n",
       "    </tr>\n",
       "    <tr>\n",
       "      <th>1008.html</th>\n",
       "      <td>17</td>\n",
       "      <td>NaN</td>\n",
       "    </tr>\n",
       "    <tr>\n",
       "      <th>1009.html</th>\n",
       "      <td>1</td>\n",
       "      <td>NaN</td>\n",
       "    </tr>\n",
       "    <tr>\n",
       "      <th>101.html</th>\n",
       "      <td>27</td>\n",
       "      <td>36114</td>\n",
       "    </tr>\n",
       "    <tr>\n",
       "      <th>1010.html</th>\n",
       "      <td>1</td>\n",
       "      <td>NaN</td>\n",
       "    </tr>\n",
       "    <tr>\n",
       "      <th>1011.html</th>\n",
       "      <td>10</td>\n",
       "      <td>NaN</td>\n",
       "    </tr>\n",
       "    <tr>\n",
       "      <th>1012.html</th>\n",
       "      <td>2</td>\n",
       "      <td>334</td>\n",
       "    </tr>\n",
       "    <tr>\n",
       "      <th>1013.gif</th>\n",
       "      <td>2</td>\n",
       "      <td>212926</td>\n",
       "    </tr>\n",
       "    <tr>\n",
       "      <th>1014.map?542,190</th>\n",
       "      <td>1</td>\n",
       "      <td>0</td>\n",
       "    </tr>\n",
       "    <tr>\n",
       "      <th>1015.html</th>\n",
       "      <td>3</td>\n",
       "      <td>33</td>\n",
       "    </tr>\n",
       "    <tr>\n",
       "      <th>1016.map?137,29</th>\n",
       "      <td>1</td>\n",
       "      <td>0</td>\n",
       "    </tr>\n",
       "    <tr>\n",
       "      <th>1017.html</th>\n",
       "      <td>4</td>\n",
       "      <td>56</td>\n",
       "    </tr>\n",
       "    <tr>\n",
       "      <th>1018.map?365,163</th>\n",
       "      <td>1</td>\n",
       "      <td>0</td>\n",
       "    </tr>\n",
       "    <tr>\n",
       "      <th>1019.map?558,193</th>\n",
       "      <td>1</td>\n",
       "      <td>0</td>\n",
       "    </tr>\n",
       "    <tr>\n",
       "      <th>102.gif</th>\n",
       "      <td>24</td>\n",
       "      <td>41664</td>\n",
       "    </tr>\n",
       "    <tr>\n",
       "      <th>1020.com/</th>\n",
       "      <td>3</td>\n",
       "      <td>NaN</td>\n",
       "    </tr>\n",
       "    <tr>\n",
       "      <th>1021.map</th>\n",
       "      <td>2</td>\n",
       "      <td>322</td>\n",
       "    </tr>\n",
       "    <tr>\n",
       "      <th>1022.map?112,225</th>\n",
       "      <td>1</td>\n",
       "      <td>0</td>\n",
       "    </tr>\n",
       "    <tr>\n",
       "      <th>1023.html</th>\n",
       "      <td>1</td>\n",
       "      <td>15</td>\n",
       "    </tr>\n",
       "    <tr>\n",
       "      <th>1024.map?482,267</th>\n",
       "      <td>1</td>\n",
       "      <td>0</td>\n",
       "    </tr>\n",
       "    <tr>\n",
       "      <th>...</th>\n",
       "      <td>...</td>\n",
       "      <td>...</td>\n",
       "    </tr>\n",
       "    <tr>\n",
       "      <th>973.html</th>\n",
       "      <td>27</td>\n",
       "      <td>5238</td>\n",
       "    </tr>\n",
       "    <tr>\n",
       "      <th>974.html</th>\n",
       "      <td>157</td>\n",
       "      <td>725207</td>\n",
       "    </tr>\n",
       "    <tr>\n",
       "      <th>975.html</th>\n",
       "      <td>10</td>\n",
       "      <td>5500</td>\n",
       "    </tr>\n",
       "    <tr>\n",
       "      <th>976.gif</th>\n",
       "      <td>4</td>\n",
       "      <td>1916</td>\n",
       "    </tr>\n",
       "    <tr>\n",
       "      <th>977.gif</th>\n",
       "      <td>4</td>\n",
       "      <td>44316</td>\n",
       "    </tr>\n",
       "    <tr>\n",
       "      <th>978.gif</th>\n",
       "      <td>4</td>\n",
       "      <td>764</td>\n",
       "    </tr>\n",
       "    <tr>\n",
       "      <th>979.gif</th>\n",
       "      <td>3</td>\n",
       "      <td>798</td>\n",
       "    </tr>\n",
       "    <tr>\n",
       "      <th>98.html</th>\n",
       "      <td>89</td>\n",
       "      <td>58024</td>\n",
       "    </tr>\n",
       "    <tr>\n",
       "      <th>980.gif</th>\n",
       "      <td>4</td>\n",
       "      <td>3252</td>\n",
       "    </tr>\n",
       "    <tr>\n",
       "      <th>981.gif</th>\n",
       "      <td>4</td>\n",
       "      <td>2836</td>\n",
       "    </tr>\n",
       "    <tr>\n",
       "      <th>982.gif</th>\n",
       "      <td>4</td>\n",
       "      <td>19360</td>\n",
       "    </tr>\n",
       "    <tr>\n",
       "      <th>983.gif</th>\n",
       "      <td>4</td>\n",
       "      <td>740</td>\n",
       "    </tr>\n",
       "    <tr>\n",
       "      <th>984.html</th>\n",
       "      <td>7</td>\n",
       "      <td>7557</td>\n",
       "    </tr>\n",
       "    <tr>\n",
       "      <th>985.html</th>\n",
       "      <td>1</td>\n",
       "      <td>NaN</td>\n",
       "    </tr>\n",
       "    <tr>\n",
       "      <th>986.ps</th>\n",
       "      <td>11</td>\n",
       "      <td>8677428</td>\n",
       "    </tr>\n",
       "    <tr>\n",
       "      <th>987.ps</th>\n",
       "      <td>13</td>\n",
       "      <td>1819852</td>\n",
       "    </tr>\n",
       "    <tr>\n",
       "      <th>988.txt</th>\n",
       "      <td>14</td>\n",
       "      <td>4111724</td>\n",
       "    </tr>\n",
       "    <tr>\n",
       "      <th>989.html</th>\n",
       "      <td>477</td>\n",
       "      <td>383201</td>\n",
       "    </tr>\n",
       "    <tr>\n",
       "      <th>99.xbm</th>\n",
       "      <td>298</td>\n",
       "      <td>70602</td>\n",
       "    </tr>\n",
       "    <tr>\n",
       "      <th>990.html</th>\n",
       "      <td>746</td>\n",
       "      <td>1457221</td>\n",
       "    </tr>\n",
       "    <tr>\n",
       "      <th>991.html</th>\n",
       "      <td>730</td>\n",
       "      <td>1266436</td>\n",
       "    </tr>\n",
       "    <tr>\n",
       "      <th>992.html</th>\n",
       "      <td>326</td>\n",
       "      <td>256274</td>\n",
       "    </tr>\n",
       "    <tr>\n",
       "      <th>993.html</th>\n",
       "      <td>2</td>\n",
       "      <td>2050</td>\n",
       "    </tr>\n",
       "    <tr>\n",
       "      <th>994.txt</th>\n",
       "      <td>6</td>\n",
       "      <td>23418</td>\n",
       "    </tr>\n",
       "    <tr>\n",
       "      <th>995.html</th>\n",
       "      <td>78</td>\n",
       "      <td>74212</td>\n",
       "    </tr>\n",
       "    <tr>\n",
       "      <th>996.html</th>\n",
       "      <td>70</td>\n",
       "      <td>76774</td>\n",
       "    </tr>\n",
       "    <tr>\n",
       "      <th>997.html</th>\n",
       "      <td>66</td>\n",
       "      <td>48069</td>\n",
       "    </tr>\n",
       "    <tr>\n",
       "      <th>998.html</th>\n",
       "      <td>55</td>\n",
       "      <td>56320</td>\n",
       "    </tr>\n",
       "    <tr>\n",
       "      <th>999.html</th>\n",
       "      <td>74</td>\n",
       "      <td>176729</td>\n",
       "    </tr>\n",
       "    <tr>\n",
       "      <th>index.html</th>\n",
       "      <td>36323</td>\n",
       "      <td>84635972</td>\n",
       "    </tr>\n",
       "  </tbody>\n",
       "</table>\n",
       "<p>3471 rows × 2 columns</p>\n",
       "</div>"
      ],
      "text/plain": [
       "                   Hits  XferBytes\n",
       "resource                          \n",
       "1.gif               135     215140\n",
       "10.html             146     309145\n",
       "100.xbm             431     208472\n",
       "1000.jpg              4      85464\n",
       "1001.jpg              6     348228\n",
       "1002.jpg              7     442470\n",
       "1003.html           193     440049\n",
       "1004.gif            135      60833\n",
       "1005.gif            139      25021\n",
       "1006.gif              8        NaN\n",
       "1007.gif             58        NaN\n",
       "1008.html            17        NaN\n",
       "1009.html             1        NaN\n",
       "101.html             27      36114\n",
       "1010.html             1        NaN\n",
       "1011.html            10        NaN\n",
       "1012.html             2        334\n",
       "1013.gif              2     212926\n",
       "1014.map?542,190      1          0\n",
       "1015.html             3         33\n",
       "1016.map?137,29       1          0\n",
       "1017.html             4         56\n",
       "1018.map?365,163      1          0\n",
       "1019.map?558,193      1          0\n",
       "102.gif              24      41664\n",
       "1020.com/             3        NaN\n",
       "1021.map              2        322\n",
       "1022.map?112,225      1          0\n",
       "1023.html             1         15\n",
       "1024.map?482,267      1          0\n",
       "...                 ...        ...\n",
       "973.html             27       5238\n",
       "974.html            157     725207\n",
       "975.html             10       5500\n",
       "976.gif               4       1916\n",
       "977.gif               4      44316\n",
       "978.gif               4        764\n",
       "979.gif               3        798\n",
       "98.html              89      58024\n",
       "980.gif               4       3252\n",
       "981.gif               4       2836\n",
       "982.gif               4      19360\n",
       "983.gif               4        740\n",
       "984.html              7       7557\n",
       "985.html              1        NaN\n",
       "986.ps               11    8677428\n",
       "987.ps               13    1819852\n",
       "988.txt              14    4111724\n",
       "989.html            477     383201\n",
       "99.xbm              298      70602\n",
       "990.html            746    1457221\n",
       "991.html            730    1266436\n",
       "992.html            326     256274\n",
       "993.html              2       2050\n",
       "994.txt               6      23418\n",
       "995.html             78      74212\n",
       "996.html             70      76774\n",
       "997.html             66      48069\n",
       "998.html             55      56320\n",
       "999.html             74     176729\n",
       "index.html        36323   84635972\n",
       "\n",
       "[3471 rows x 2 columns]"
      ]
     },
     "execution_count": 24,
     "metadata": {},
     "output_type": "execute_result"
    }
   ],
   "source": [
    "grpRsc = data[ ['id','size'] ].groupby(data['resource'])\n",
    "stats = grpRsc.aggregate({ 'id':lambda x: x.count(), 'size':np.sum }).rename(columns={'size':'XferBytes', 'id':'Hits'})\n",
    "stats"
   ]
  },
  {
   "cell_type": "markdown",
   "metadata": {},
   "source": [
    "It is commonly the case that we are interested in the top hitters. So, let us sort the information and grab the top ten hitters in descending order"
   ]
  },
  {
   "cell_type": "code",
   "execution_count": 25,
   "metadata": {
    "scrolled": true
   },
   "outputs": [
    {
     "data": {
      "text/html": [
       "<div>\n",
       "<table border=\"1\" class=\"dataframe\">\n",
       "  <thead>\n",
       "    <tr style=\"text-align: right;\">\n",
       "      <th></th>\n",
       "      <th>Hits</th>\n",
       "      <th>XferBytes</th>\n",
       "    </tr>\n",
       "    <tr>\n",
       "      <th>resource</th>\n",
       "      <th></th>\n",
       "      <th></th>\n",
       "    </tr>\n",
       "  </thead>\n",
       "  <tbody>\n",
       "    <tr>\n",
       "      <th>index.html</th>\n",
       "      <td>36323</td>\n",
       "      <td>84635972</td>\n",
       "    </tr>\n",
       "    <tr>\n",
       "      <th>2.gif</th>\n",
       "      <td>7959</td>\n",
       "      <td>19739930</td>\n",
       "    </tr>\n",
       "    <tr>\n",
       "      <th>3.gif</th>\n",
       "      <td>7922</td>\n",
       "      <td>273815789</td>\n",
       "    </tr>\n",
       "    <tr>\n",
       "      <th>4.gif</th>\n",
       "      <td>4710</td>\n",
       "      <td>2055942</td>\n",
       "    </tr>\n",
       "    <tr>\n",
       "      <th>5.html</th>\n",
       "      <td>1715</td>\n",
       "      <td>1381601</td>\n",
       "    </tr>\n",
       "    <tr>\n",
       "      <th>93.gif</th>\n",
       "      <td>949</td>\n",
       "      <td>1863344</td>\n",
       "    </tr>\n",
       "    <tr>\n",
       "      <th>167.html</th>\n",
       "      <td>816</td>\n",
       "      <td>1008060</td>\n",
       "    </tr>\n",
       "    <tr>\n",
       "      <th>990.html</th>\n",
       "      <td>746</td>\n",
       "      <td>1457221</td>\n",
       "    </tr>\n",
       "    <tr>\n",
       "      <th>991.html</th>\n",
       "      <td>730</td>\n",
       "      <td>1266436</td>\n",
       "    </tr>\n",
       "    <tr>\n",
       "      <th>36.html</th>\n",
       "      <td>649</td>\n",
       "      <td>1016203</td>\n",
       "    </tr>\n",
       "  </tbody>\n",
       "</table>\n",
       "</div>"
      ],
      "text/plain": [
       "             Hits  XferBytes\n",
       "resource                    \n",
       "index.html  36323   84635972\n",
       "2.gif        7959   19739930\n",
       "3.gif        7922  273815789\n",
       "4.gif        4710    2055942\n",
       "5.html       1715    1381601\n",
       "93.gif        949    1863344\n",
       "167.html      816    1008060\n",
       "990.html      746    1457221\n",
       "991.html      730    1266436\n",
       "36.html       649    1016203"
      ]
     },
     "execution_count": 25,
     "metadata": {},
     "output_type": "execute_result"
    }
   ],
   "source": [
    "sortedh = stats.sort_values(by='Hits', ascending=False)\n",
    "sortedh.head(10)"
   ]
  },
  {
   "cell_type": "markdown",
   "metadata": {},
   "source": [
    "Observe that the top hits are not responsible for the most transferred bytes. Let us see this from the perspective of transferred bytes"
   ]
  },
  {
   "cell_type": "code",
   "execution_count": 26,
   "metadata": {},
   "outputs": [
    {
     "data": {
      "text/html": [
       "<div>\n",
       "<table border=\"1\" class=\"dataframe\">\n",
       "  <thead>\n",
       "    <tr style=\"text-align: right;\">\n",
       "      <th></th>\n",
       "      <th>Hits</th>\n",
       "      <th>XferBytes</th>\n",
       "    </tr>\n",
       "    <tr>\n",
       "      <th>resource</th>\n",
       "      <th></th>\n",
       "      <th></th>\n",
       "    </tr>\n",
       "  </thead>\n",
       "  <tbody>\n",
       "    <tr>\n",
       "      <th>3.gif</th>\n",
       "      <td>7922</td>\n",
       "      <td>273815789</td>\n",
       "    </tr>\n",
       "    <tr>\n",
       "      <th>743.qt</th>\n",
       "      <td>51</td>\n",
       "      <td>94375663</td>\n",
       "    </tr>\n",
       "    <tr>\n",
       "      <th>1176.ps</th>\n",
       "      <td>12</td>\n",
       "      <td>89993276</td>\n",
       "    </tr>\n",
       "    <tr>\n",
       "      <th>index.html</th>\n",
       "      <td>36323</td>\n",
       "      <td>84635972</td>\n",
       "    </tr>\n",
       "    <tr>\n",
       "      <th>1672.ps</th>\n",
       "      <td>19</td>\n",
       "      <td>77567724</td>\n",
       "    </tr>\n",
       "    <tr>\n",
       "      <th>795.qt</th>\n",
       "      <td>46</td>\n",
       "      <td>46502400</td>\n",
       "    </tr>\n",
       "    <tr>\n",
       "      <th>38.aiff</th>\n",
       "      <td>128</td>\n",
       "      <td>41866734</td>\n",
       "    </tr>\n",
       "    <tr>\n",
       "      <th>2203.jpg</th>\n",
       "      <td>112</td>\n",
       "      <td>38942392</td>\n",
       "    </tr>\n",
       "    <tr>\n",
       "      <th>836.ps</th>\n",
       "      <td>3</td>\n",
       "      <td>35567646</td>\n",
       "    </tr>\n",
       "    <tr>\n",
       "      <th>1134.ps</th>\n",
       "      <td>18</td>\n",
       "      <td>34859800</td>\n",
       "    </tr>\n",
       "  </tbody>\n",
       "</table>\n",
       "</div>"
      ],
      "text/plain": [
       "             Hits  XferBytes\n",
       "resource                    \n",
       "3.gif        7922  273815789\n",
       "743.qt         51   94375663\n",
       "1176.ps        12   89993276\n",
       "index.html  36323   84635972\n",
       "1672.ps        19   77567724\n",
       "795.qt         46   46502400\n",
       "38.aiff       128   41866734\n",
       "2203.jpg      112   38942392\n",
       "836.ps          3   35567646\n",
       "1134.ps        18   34859800"
      ]
     },
     "execution_count": 26,
     "metadata": {},
     "output_type": "execute_result"
    }
   ],
   "source": [
    "sortedb = stats.sort_values(by='XferBytes', ascending=False)\n",
    "sortedb.head(10)"
   ]
  },
  {
   "cell_type": "markdown",
   "metadata": {},
   "source": [
    "Now we now what to optimize to improve the bandwidth utilization of the website. How about plotting some of this information"
   ]
  },
  {
   "cell_type": "code",
   "execution_count": 27,
   "metadata": {},
   "outputs": [
    {
     "data": {
      "image/png": "[encoded data removed]",
      "text/plain": [
       "<matplotlib.figure.Figure at 0x7fdf36975630>"
      ]
     },
     "metadata": {},
     "output_type": "display_data"
    }
   ],
   "source": [
    "sortedb.head(10).plot(kind='bar', figsize=(8,5), colormap='summer', title='Xfer & Hits (sorted by Xfer)', subplots=True)\n",
    "plt.show()"
   ]
  },
  {
   "cell_type": "markdown",
   "metadata": {},
   "source": [
    "## To explore further"
   ]
  },
  {
   "cell_type": "markdown",
   "metadata": {},
   "source": [
    "Pandas allows many different things with a few lines of code. Some interesting exercises could be the following:\n",
    "<ul>\n",
    "<li>Group the data using the status code. Determine what resources are causing the larger number of errors. These could reveal broken links or possible attacks on the web site.</li>    \n",
    "<li>To keep log files not too large, web servers use some log rotation schemes. For analysis it may be necessary to have all the information in a single dataframe. This could be done using the <a href=\"https://pandas.pydata.org/pandas-docs/stable/merging.html\">concat</a> or the <a href=\"https://pandas.pydata.org/pandas-docs/stable/generated/pandas.DataFrame.append.html#pandas.DataFrame.append\">append</a> functions.</li>    \n",
    "</ul>"
   ]
  },
  {
   "cell_type": "markdown",
   "metadata": {},
   "source": [
    "## Source code"
   ]
  },
  {
   "cell_type": "markdown",
   "metadata": {},
   "source": [
    "<a href=\"https://github.com/jmlon/PythonTutorials/blob/master/pandas/logAnalyzer.py\">logAnalyzer.py</a> in GitHub"
   ]
  }
 ],
 "metadata": {
  "kernelspec": {
   "display_name": "Python 3",
   "language": "python",
   "name": "python3"
  },
  "language_info": {
   "codemirror_mode": {
    "name": "ipython",
    "version": 3
   },
   "file_extension": ".py",
   "mimetype": "text/x-python",
   "name": "python",
   "nbconvert_exporter": "python",
   "pygments_lexer": "ipython3",
   "version": "3.5.2"
  }
 },
 "nbformat": 4,
 "nbformat_minor": 2
}
