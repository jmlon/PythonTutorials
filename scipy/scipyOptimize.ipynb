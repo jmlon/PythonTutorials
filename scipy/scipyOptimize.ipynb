{
 "cells": [
  {
   "cell_type": "markdown",
   "metadata": {},
   "source": [
    "# scipy : Optimización"
   ]
  },
  {
   "cell_type": "markdown",
   "metadata": {},
   "source": [
    "Inicialmente se importan los módulos de optimización y numpy"
   ]
  },
  {
   "cell_type": "code",
   "execution_count": 2,
   "metadata": {},
   "outputs": [],
   "source": [
    "from scipy.optimize import minimize\n",
    "import numpy as np"
   ]
  },
  {
   "cell_type": "markdown",
   "metadata": {},
   "source": [
    "Existen multitud de métodos de optimización (minimización/maximización). El módulo optimize implementa algunos de estos métodos, los cuales se invocan todos a través de la función minimize, pero pueden variar los parámetros según \n",
    "el método de integración."
   ]
  },
  {
   "cell_type": "markdown",
   "metadata": {},
   "source": [
    "## Parábola en $R^2$ transladada"
   ]
  },
  {
   "cell_type": "code",
   "execution_count": 3,
   "metadata": {},
   "outputs": [
    {
     "name": "stdout",
     "output_type": "stream",
     "text": [
      "Optimization terminated successfully.\n",
      "         Current function value: 0.000000\n",
      "         Iterations: 97\n",
      "         Function evaluations: 185\n"
     ]
    }
   ],
   "source": [
    "# Algunas constantes\n",
    "a=1\n",
    "b=2\n",
    "\n",
    "# La función a optimizar\n",
    "def parabola(x):\n",
    "    return (x[0]-a)**2+(x[1]-b)**2\n",
    "\n",
    "# Un punto inicial para arrancar el proceso\n",
    "x0 = np.array([0.,0.])\n",
    "\n",
    "# Minimización por el método 'nelder-mead'\n",
    "results = minimize(parabola, x0, method='nelder-mead', options={'xtol': 1e-8, 'disp': True})"
   ]
  },
  {
   "cell_type": "code",
   "execution_count": 4,
   "metadata": {},
   "outputs": [
    {
     "data": {
      "text/plain": [
       " final_simplex: (array([[ 1.        ,  2.        ],\n",
       "       [ 1.        ,  2.        ],\n",
       "       [ 1.00000001,  2.        ]]), array([  1.68165610e-17,   2.00725924e-17,   7.12162476e-17]))\n",
       "           fun: 1.6816560972691699e-17\n",
       "       message: 'Optimization terminated successfully.'\n",
       "          nfev: 185\n",
       "           nit: 97\n",
       "        status: 0\n",
       "       success: True\n",
       "             x: array([ 1.,  2.])"
      ]
     },
     "execution_count": 4,
     "metadata": {},
     "output_type": "execute_result"
    }
   ],
   "source": [
    "results"
   ]
  },
  {
   "cell_type": "code",
   "execution_count": 5,
   "metadata": {},
   "outputs": [
    {
     "data": {
      "text/plain": [
       "array([ 1.,  2.])"
      ]
     },
     "execution_count": 5,
     "metadata": {},
     "output_type": "execute_result"
    }
   ],
   "source": [
    "# Ok, pero solo queremos el punto solución\n",
    "results.x"
   ]
  },
  {
   "cell_type": "markdown",
   "metadata": {},
   "source": [
    "## Generalización parábola en $R^n$"
   ]
  },
  {
   "cell_type": "code",
   "execution_count": 6,
   "metadata": {},
   "outputs": [],
   "source": [
    "# Translacion\n",
    "xt = np.array([ 1.,2.,3.,4.,5. ])\n",
    "\n",
    "# La función a optimizar\n",
    "def parabolaN(x):\n",
    "    return ((x-xt)**2).sum()\n"
   ]
  },
  {
   "cell_type": "markdown",
   "metadata": {},
   "source": [
    "Se define un punto inicial y se invoca la función de minización"
   ]
  },
  {
   "cell_type": "code",
   "execution_count": 7,
   "metadata": {},
   "outputs": [
    {
     "name": "stdout",
     "output_type": "stream",
     "text": [
      "Warning: Maximum number of function evaluations has been exceeded.\n"
     ]
    }
   ],
   "source": [
    "# Un punto inicial para arrancar el proceso\n",
    "x0 = np.zeros( 5 )\n",
    "\n",
    "# Minimización por el método 'nelder-mead'\n",
    "results = minimize(parabolaN, x0, method='nelder-mead', options={'xtol': 1e-6, 'disp': True})"
   ]
  },
  {
   "cell_type": "code",
   "execution_count": 8,
   "metadata": {},
   "outputs": [
    {
     "data": {
      "text/plain": [
       "array([ 0.99921734,  1.99994041,  3.00095397,  3.99974395,  5.00102968])"
      ]
     },
     "execution_count": 8,
     "metadata": {},
     "output_type": "execute_result"
    }
   ],
   "source": [
    "results.x"
   ]
  },
  {
   "cell_type": "markdown",
   "metadata": {},
   "source": [
    "El disponer de las derivadas de la función objetivo abre la posibilidad de usar métodos que convergen más rápidamente.\n",
    "Por ejemplo el gradiente (o jacobiano) de la parábola en $R^n$ está dado por la función:"
   ]
  },
  {
   "cell_type": "code",
   "execution_count": 9,
   "metadata": {},
   "outputs": [],
   "source": [
    "# Calcular el jacobiano, matrix Nx1 de primeras derivadas de la función\n",
    "def jacobian(x):\n",
    "    return 2*(x-xt)"
   ]
  },
  {
   "cell_type": "markdown",
   "metadata": {},
   "source": [
    "y el método Broyden-Fletcher-Goldfarb-Shanno (BFGS) puede hacer uso de las derivadas así:"
   ]
  },
  {
   "cell_type": "code",
   "execution_count": 10,
   "metadata": {},
   "outputs": [
    {
     "name": "stdout",
     "output_type": "stream",
     "text": [
      "Optimization terminated successfully.\n",
      "         Current function value: 0.000000\n",
      "         Iterations: 3\n",
      "         Function evaluations: 4\n",
      "         Gradient evaluations: 4\n"
     ]
    }
   ],
   "source": [
    "# Minimización por el método 'BFGS', pasando la funcion del jacobiano\n",
    "results = minimize(parabolaN, x0, method='BFGS', jac=jacobian, options={'disp': True})"
   ]
  },
  {
   "cell_type": "code",
   "execution_count": 11,
   "metadata": {},
   "outputs": [
    {
     "data": {
      "text/plain": [
       "array([ 1.,  2.,  3.,  4.,  5.])"
      ]
     },
     "execution_count": 11,
     "metadata": {},
     "output_type": "execute_result"
    }
   ],
   "source": [
    "results.x"
   ]
  },
  {
   "cell_type": "markdown",
   "metadata": {},
   "source": [
    "Incluso, si se dispone de las segundas derivadas (Hessian) se pueden utilizar métodos aún más eficientes como el Newton-Conjugate-Gradient"
   ]
  },
  {
   "cell_type": "code",
   "execution_count": 12,
   "metadata": {},
   "outputs": [
    {
     "name": "stdout",
     "output_type": "stream",
     "text": [
      "Optimization terminated successfully.\n",
      "         Current function value: 0.000000\n",
      "         Iterations: 2\n",
      "         Function evaluations: 3\n",
      "         Gradient evaluations: 4\n",
      "         Hessian evaluations: 2\n"
     ]
    }
   ],
   "source": [
    "# Calcular el Hessiano, matrix nxn de segundas derivadas de la función\n",
    "def hessian(x):\n",
    "    return np.diag( 2*np.ones(x.shape) )\n",
    "\n",
    "# Minimización por el método 'Newton-CG', pasando la funcion del jacobiano y el hessiano\n",
    "results = minimize(parabolaN, x0, method='Newton-CG', jac=jacobian, hess=hessian, options={'disp': True})"
   ]
  },
  {
   "cell_type": "code",
   "execution_count": 13,
   "metadata": {},
   "outputs": [
    {
     "data": {
      "text/plain": [
       "array([ 1.,  2.,  3.,  4.,  5.])"
      ]
     },
     "execution_count": 13,
     "metadata": {},
     "output_type": "execute_result"
    }
   ],
   "source": [
    "results.x"
   ]
  },
  {
   "cell_type": "markdown",
   "metadata": {},
   "source": [
    "## Ajuste de curvas por mínimos cuadrados"
   ]
  },
  {
   "cell_type": "markdown",
   "metadata": {},
   "source": [
    "El método de mínimos cuadrados se utiliza comunmente para determinar los parámetros de un modelo que mejor se ajustan a un conjunto de observaciones experimentales."
   ]
  },
  {
   "cell_type": "markdown",
   "metadata": {},
   "source": [
    "Supongamos que se tiene el siguiente conjunto de observaciones:"
   ]
  },
  {
   "cell_type": "code",
   "execution_count": 14,
   "metadata": {},
   "outputs": [],
   "source": [
    "obs = np.array([ 2.52483651,  2.31425344,  2.6848971 ,  2.70174083,  3.0463613 ,\n",
    "        2.99765209,  3.44428727,  3.5561104 ,  3.90656829,  4.04416544,\n",
    "        4.42440144,  4.84459361,  4.79804493,  4.84273557,  5.08542649,\n",
    "        5.0700754 ,  4.79993924,  4.82872352,  4.75390864,  4.25474467,\n",
    "        4.42672152,  4.02190748,  3.91485327,  3.43295015,  3.43173336,\n",
    "        2.92309118,  3.10279758,  2.82707051,  2.23905861,  2.29927556,\n",
    "        2.46353113,  2.09561343,  2.22926611,  2.03924848,  1.96606807,\n",
    "        1.9339189 ,  2.03639402,  2.10496801,  2.01822495,  2.10666009,\n",
    "        2.13145425,  2.10118512,  1.95166921,  1.7079767 ,  2.05553464,\n",
    "        1.83273161,  1.88716236,  1.8912594 ,  2.07873222,  1.96578077])"
   ]
  },
  {
   "cell_type": "markdown",
   "metadata": {},
   "source": [
    "que corresponden a 50 puntos en el tiempo entre 0 y 5:"
   ]
  },
  {
   "cell_type": "code",
   "execution_count": 15,
   "metadata": {},
   "outputs": [],
   "source": [
    "t = np.linspace(0, 5, 50)            # 50 evenly spaced samples"
   ]
  },
  {
   "cell_type": "markdown",
   "metadata": {},
   "source": [
    "La gráfica de las observaciones es:"
   ]
  },
  {
   "cell_type": "code",
   "execution_count": 17,
   "metadata": {},
   "outputs": [
    {
     "data": {
      "image/png": "[encoded data removed]",
      "text/plain": [
       "<matplotlib.figure.Figure at 0x7f92f043e400>"
      ]
     },
     "metadata": {},
     "output_type": "display_data"
    }
   ],
   "source": [
    "import matplotlib.pyplot as plt\n",
    "plt.plot(t, obs, 'xb')\n",
    "plt.xlabel('time')\n",
    "plt.ylabel('obs')\n",
    "plt.show()"
   ]
  },
  {
   "cell_type": "markdown",
   "metadata": {},
   "source": [
    "y que el modelo que describe el fenómeno es de la forma:\n",
    "$$ y(t) = A + B \\exp{ \\left\\{ - \\left( \\frac{t-\\mu}{\\sigma} \\right)^2 \\right\\}  }$$\n",
    "donde A,B,$\\mu$,$\\sigma$ son los parámetros del modelo y $t$ es la variable independiente.\n",
    "Sea coeff[] el vector de parámetros del modelo. Entonces, la función que describe el modelo es:"
   ]
  },
  {
   "cell_type": "code",
   "execution_count": 18,
   "metadata": {},
   "outputs": [],
   "source": [
    "def modelo(t, coeffs):\n",
    "    return coeffs[0]+coeffs[1]*np.exp(-((t-coeffs[2])/coeffs[3])**2)"
   ]
  },
  {
   "cell_type": "markdown",
   "metadata": {},
   "source": [
    "El error residual es la diferencia entre las observaciones y el valor que predice el modelo. El método de mínimos cuadrados busca minimizar la suma de los cuadrados del error residual para todas las observaciones.\n",
    "Por lo tanto debemos definir una función que determine el error residual:"
   ]
  },
  {
   "cell_type": "code",
   "execution_count": 19,
   "metadata": {},
   "outputs": [],
   "source": [
    "def residuals(coeffs,obs,t):\n",
    "    return obs-modelo(t,coeffs)"
   ]
  },
  {
   "cell_type": "markdown",
   "metadata": {},
   "source": [
    "Y con el modelo, las observaciones y el error residual podemos encontrar los coeficientes del modelo que minimizan el error cuadrático:"
   ]
  },
  {
   "cell_type": "code",
   "execution_count": 20,
   "metadata": {},
   "outputs": [
    {
     "data": {
      "text/plain": [
       "array([ 1.97296506,  3.02661946,  1.50780691,  1.03453715])"
      ]
     },
     "execution_count": 20,
     "metadata": {},
     "output_type": "execute_result"
    }
   ],
   "source": [
    "# Se utiliza la funcion de minimos cuadrados del modulo scipy\n",
    "from scipy.optimize import leastsq\n",
    "\n",
    "# Se define un punto de partida para el proceso de minimización\n",
    "x0 = np.ones(4)\n",
    "\n",
    "# Se invoca el algoritmo de ajuste por mínimos cuadrados\n",
    "x, flag = leastsq(residuals, x0, args=(obs, t))\n",
    "x"
   ]
  },
  {
   "cell_type": "markdown",
   "metadata": {},
   "source": [
    "Conocidos los coeficientes se puede evaluar el modelo $y(t)$ y hacer la gráfica de las observaciones vs el modelo ajustado"
   ]
  },
  {
   "cell_type": "code",
   "execution_count": 21,
   "metadata": {},
   "outputs": [],
   "source": [
    "y = modelo(t, x)"
   ]
  },
  {
   "cell_type": "code",
   "execution_count": 22,
   "metadata": {},
   "outputs": [
    {
     "data": {
      "image/png": "[encoded data removed]",
      "text/plain": [
       "<matplotlib.figure.Figure at 0x7f92eb2dee80>"
      ]
     },
     "metadata": {},
     "output_type": "display_data"
    }
   ],
   "source": [
    "plt.plot(t, obs, 'xb', t, y, '-r')\n",
    "plt.xlabel('time')\n",
    "plt.ylabel('y(t)')\n",
    "plt.title('Curva de mejor ajuste')\n",
    "plt.show()"
   ]
  },
  {
   "cell_type": "markdown",
   "metadata": {},
   "source": [
    "## Referencias"
   ]
  },
  {
   "cell_type": "markdown",
   "metadata": {},
   "source": [
    "Módulo optimize de scipy\n",
    "https://docs.scipy.org/doc/scipy/reference/tutorial/optimize.html\n",
    "\n",
    "Ajuste de curvas por el método de mínimos cuadrados\n",
    "http://www.scipy-lectures.org/intro/summary-exercises/optimize-fit.html\n"
   ]
  }
 ],
 "metadata": {
  "kernelspec": {
   "display_name": "Python 3",
   "language": "python",
   "name": "python3"
  },
  "language_info": {
   "codemirror_mode": {
    "name": "ipython",
    "version": 3
   },
   "file_extension": ".py",
   "mimetype": "text/x-python",
   "name": "python",
   "nbconvert_exporter": "python",
   "pygments_lexer": "ipython3",
   "version": "3.5.2"
  }
 },
 "nbformat": 4,
 "nbformat_minor": 2
}
